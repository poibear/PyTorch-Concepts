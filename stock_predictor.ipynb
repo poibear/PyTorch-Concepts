{
 "cells": [
  {
   "cell_type": "markdown",
   "metadata": {},
   "source": [
    "# AI Stock Predictor"
   ]
  },
  {
   "cell_type": "markdown",
   "metadata": {},
   "source": [
    "## Roadmap\n",
    "1. Download and filter historic data of a stock (or multiple stocks)\n",
    "2. Normalize stock values for our AI model\n",
    "3. Split up dataset of stock values into training and testing datasets\n",
    "4. Set up AI model\n",
    "5. Train and test AI model\n",
    "6. Fetch and filter latest history of stock\n",
    "7. Predict recent Close value with AI and compare it to the real Close value\n",
    "8. Improve our AI model with experimentation"
   ]
  },
  {
   "cell_type": "markdown",
   "metadata": {},
   "source": [
    "Install **YFinance**, **pandas**, and **pytorch** (for local users, not Colab)\n",
    "\n",
    "`pip install -U yfinance pandas --no-cache-dir`\n",
    "\n",
    "`pip install torch torchvision torchaudio --index-url https://download.pytorch.org/whl/cu124`"
   ]
  },
  {
   "cell_type": "code",
   "execution_count": 1,
   "metadata": {},
   "outputs": [],
   "source": [
    "import yfinance as yf\n",
    "import pandas as pd\n",
    "import torch"
   ]
  },
  {
   "cell_type": "code",
   "execution_count": 2,
   "metadata": {},
   "outputs": [],
   "source": [
    "device = \"cuda\" if torch.cuda.is_available() else \"cpu\""
   ]
  },
  {
   "cell_type": "markdown",
   "metadata": {},
   "source": [
    "We want to make an AI model that can predict future Market Close values based on the stock's past values. We can retrieve a stock's history from a certain timeframe (3 months ago)."
   ]
  },
  {
   "cell_type": "markdown",
   "metadata": {},
   "source": [
    "Add a ticker tracking a stock\n",
    " \n",
    "*Ticker = set of letters (e.g., MSFT for microsoft) identifying a stock, providing relevant stock history like market value"
   ]
  },
  {
   "cell_type": "markdown",
   "metadata": {},
   "source": [
    "We will use NVIDIA (NVDA), a semiconductor company known for making GPUs, for this example"
   ]
  },
  {
   "cell_type": "code",
   "execution_count": 3,
   "metadata": {},
   "outputs": [],
   "source": [
    "nvda = yf.Ticker(\"NVDA\") "
   ]
  },
  {
   "cell_type": "code",
   "execution_count": 4,
   "metadata": {},
   "outputs": [],
   "source": [
    "raw_df = nvda.history(period=\"3mo\").astype(float) # ensure consistency"
   ]
  },
  {
   "cell_type": "code",
   "execution_count": 5,
   "metadata": {},
   "outputs": [
    {
     "data": {
      "text/plain": [
       "False"
      ]
     },
     "execution_count": 5,
     "metadata": {},
     "output_type": "execute_result"
    }
   ],
   "source": [
    "raw_df.isnull().values.any() # no null values, so we dont have to worry about removing them"
   ]
  },
  {
   "cell_type": "code",
   "execution_count": 6,
   "metadata": {},
   "outputs": [
    {
     "data": {
      "text/html": [
       "<div>\n",
       "<style scoped>\n",
       "    .dataframe tbody tr th:only-of-type {\n",
       "        vertical-align: middle;\n",
       "    }\n",
       "\n",
       "    .dataframe tbody tr th {\n",
       "        vertical-align: top;\n",
       "    }\n",
       "\n",
       "    .dataframe thead th {\n",
       "        text-align: right;\n",
       "    }\n",
       "</style>\n",
       "<table border=\"1\" class=\"dataframe\">\n",
       "  <thead>\n",
       "    <tr style=\"text-align: right;\">\n",
       "      <th></th>\n",
       "      <th>Open</th>\n",
       "      <th>High</th>\n",
       "      <th>Low</th>\n",
       "      <th>Close</th>\n",
       "      <th>Volume</th>\n",
       "      <th>Dividends</th>\n",
       "      <th>Stock Splits</th>\n",
       "    </tr>\n",
       "    <tr>\n",
       "      <th>Date</th>\n",
       "      <th></th>\n",
       "      <th></th>\n",
       "      <th></th>\n",
       "      <th></th>\n",
       "      <th></th>\n",
       "      <th></th>\n",
       "      <th></th>\n",
       "    </tr>\n",
       "  </thead>\n",
       "  <tbody>\n",
       "    <tr>\n",
       "      <th>2024-05-03 00:00:00-04:00</th>\n",
       "      <td>87.781790</td>\n",
       "      <td>89.273664</td>\n",
       "      <td>87.032851</td>\n",
       "      <td>88.781708</td>\n",
       "      <td>398341000.0</td>\n",
       "      <td>0.0</td>\n",
       "      <td>0.0</td>\n",
       "    </tr>\n",
       "    <tr>\n",
       "      <th>2024-05-06 00:00:00-04:00</th>\n",
       "      <td>89.382657</td>\n",
       "      <td>92.212426</td>\n",
       "      <td>89.047685</td>\n",
       "      <td>92.132431</td>\n",
       "      <td>376203000.0</td>\n",
       "      <td>0.0</td>\n",
       "      <td>0.0</td>\n",
       "    </tr>\n",
       "    <tr>\n",
       "      <th>2024-05-07 00:00:00-04:00</th>\n",
       "      <td>91.090516</td>\n",
       "      <td>91.773459</td>\n",
       "      <td>89.003690</td>\n",
       "      <td>90.546562</td>\n",
       "      <td>437342000.0</td>\n",
       "      <td>0.0</td>\n",
       "      <td>0.0</td>\n",
       "    </tr>\n",
       "    <tr>\n",
       "      <th>2024-05-08 00:00:00-04:00</th>\n",
       "      <td>89.475655</td>\n",
       "      <td>91.186513</td>\n",
       "      <td>89.412656</td>\n",
       "      <td>90.404579</td>\n",
       "      <td>325721000.0</td>\n",
       "      <td>0.0</td>\n",
       "      <td>0.0</td>\n",
       "    </tr>\n",
       "    <tr>\n",
       "      <th>2024-05-09 00:00:00-04:00</th>\n",
       "      <td>90.521567</td>\n",
       "      <td>91.064522</td>\n",
       "      <td>88.223759</td>\n",
       "      <td>88.739716</td>\n",
       "      <td>378013000.0</td>\n",
       "      <td>0.0</td>\n",
       "      <td>0.0</td>\n",
       "    </tr>\n",
       "  </tbody>\n",
       "</table>\n",
       "</div>"
      ],
      "text/plain": [
       "                                Open       High        Low      Close  \\\n",
       "Date                                                                    \n",
       "2024-05-03 00:00:00-04:00  87.781790  89.273664  87.032851  88.781708   \n",
       "2024-05-06 00:00:00-04:00  89.382657  92.212426  89.047685  92.132431   \n",
       "2024-05-07 00:00:00-04:00  91.090516  91.773459  89.003690  90.546562   \n",
       "2024-05-08 00:00:00-04:00  89.475655  91.186513  89.412656  90.404579   \n",
       "2024-05-09 00:00:00-04:00  90.521567  91.064522  88.223759  88.739716   \n",
       "\n",
       "                                Volume  Dividends  Stock Splits  \n",
       "Date                                                             \n",
       "2024-05-03 00:00:00-04:00  398341000.0        0.0           0.0  \n",
       "2024-05-06 00:00:00-04:00  376203000.0        0.0           0.0  \n",
       "2024-05-07 00:00:00-04:00  437342000.0        0.0           0.0  \n",
       "2024-05-08 00:00:00-04:00  325721000.0        0.0           0.0  \n",
       "2024-05-09 00:00:00-04:00  378013000.0        0.0           0.0  "
      ]
     },
     "execution_count": 6,
     "metadata": {},
     "output_type": "execute_result"
    }
   ],
   "source": [
    "raw_df.head(5)"
   ]
  },
  {
   "cell_type": "markdown",
   "metadata": {},
   "source": [
    "We want our AI model to predict what the Close values will be. To do this, we must categorize this historic data into two sections: training and testing data.\n",
    "\n",
    "\n",
    "Training Data (**Features**): Open, High, Low, Volume (They seem to have significant value)\n",
    "\n",
    "Testing Data (**Labels**): Close "
   ]
  },
  {
   "cell_type": "code",
   "execution_count": 7,
   "metadata": {},
   "outputs": [],
   "source": [
    "raw_df.drop(columns=[\"Dividends\", \"Stock Splits\"], inplace=True)  # inplace since we aren't assigning to new variable"
   ]
  },
  {
   "cell_type": "code",
   "execution_count": 8,
   "metadata": {},
   "outputs": [
    {
     "data": {
      "text/plain": [
       "Date\n",
       "2024-05-03 00:00:00-04:00     88.781708\n",
       "2024-05-06 00:00:00-04:00     92.132431\n",
       "2024-05-07 00:00:00-04:00     90.546562\n",
       "2024-05-08 00:00:00-04:00     90.404579\n",
       "2024-05-09 00:00:00-04:00     88.739716\n",
       "                                ...    \n",
       "2024-07-29 00:00:00-04:00    111.589996\n",
       "2024-07-30 00:00:00-04:00    103.730003\n",
       "2024-07-31 00:00:00-04:00    117.019997\n",
       "2024-08-01 00:00:00-04:00    109.209999\n",
       "2024-08-02 00:00:00-04:00    107.269997\n",
       "Name: Close, Length: 63, dtype: float64"
      ]
     },
     "execution_count": 8,
     "metadata": {},
     "output_type": "execute_result"
    }
   ],
   "source": [
    "features_df = raw_df.drop(\"Close\", axis=1) # features is everything except Close column, notice how we use axis=1 to select column since it will try to look in rows\n",
    "label_df = raw_df.pop(\"Close\") # this will be its own column\n",
    "label_df.rename(\"Close\", inplace=True)"
   ]
  },
  {
   "cell_type": "code",
   "execution_count": 9,
   "metadata": {},
   "outputs": [
    {
     "data": {
      "text/plain": [
       "((63, 4), (63,))"
      ]
     },
     "execution_count": 9,
     "metadata": {},
     "output_type": "execute_result"
    }
   ],
   "source": [
    "features_df.shape, label_df.shape"
   ]
  },
  {
   "cell_type": "markdown",
   "metadata": {},
   "source": [
    "To make sure our AI model does not worry too much on the numbers in our dataset, we will **normalize** our (training) data to ensure it only focuses on the patterns. We will use a MinMaxScaler from Scikit-Learn which scales all numbers respective to the lowest and highest number in the dataset.\n",
    "\n",
    "Note that we do not standardize for our case, as we will use a loss function called Mean Square Error which will change our error scale to the value of the NVIDIA stock, rendering us unable to measure the accuracy and loss of our model."
   ]
  },
  {
   "cell_type": "code",
   "execution_count": 10,
   "metadata": {},
   "outputs": [],
   "source": [
    "from sklearn.preprocessing import MinMaxScaler"
   ]
  },
  {
   "cell_type": "code",
   "execution_count": 11,
   "metadata": {},
   "outputs": [],
   "source": [
    "feature_normalizer = MinMaxScaler(feature_range=(0, 1))\n",
    "norm_df = feature_normalizer.fit_transform(features_df, y=label_df) # apply normalization to make a numpy array\n",
    "features_df = pd.DataFrame(norm_df, index=features_df.index, columns=features_df.columns) # convert the normalized array to a dataframe once again\n",
    "\n",
    "label_normalizer = MinMaxScaler()\n",
    "norm_df = label_normalizer.fit_transform(label_df.to_frame()) # MinMaxScaler requires this\n",
    "label_df = pd.DataFrame(norm_df, index=label_df.index, columns=[\"Close\"]) # extra touch to rename it Close"
   ]
  },
  {
   "cell_type": "code",
   "execution_count": 12,
   "metadata": {},
   "outputs": [
    {
     "data": {
      "text/html": [
       "<div>\n",
       "<style scoped>\n",
       "    .dataframe tbody tr th:only-of-type {\n",
       "        vertical-align: middle;\n",
       "    }\n",
       "\n",
       "    .dataframe tbody tr th {\n",
       "        vertical-align: top;\n",
       "    }\n",
       "\n",
       "    .dataframe thead th {\n",
       "        text-align: right;\n",
       "    }\n",
       "</style>\n",
       "<table border=\"1\" class=\"dataframe\">\n",
       "  <thead>\n",
       "    <tr style=\"text-align: right;\">\n",
       "      <th></th>\n",
       "      <th>Open</th>\n",
       "      <th>High</th>\n",
       "      <th>Low</th>\n",
       "      <th>Volume</th>\n",
       "    </tr>\n",
       "    <tr>\n",
       "      <th>Date</th>\n",
       "      <th></th>\n",
       "      <th></th>\n",
       "      <th></th>\n",
       "      <th></th>\n",
       "    </tr>\n",
       "  </thead>\n",
       "  <tbody>\n",
       "    <tr>\n",
       "      <th>2024-05-03 00:00:00-04:00</th>\n",
       "      <td>0.000000</td>\n",
       "      <td>0.000000</td>\n",
       "      <td>0.000000</td>\n",
       "      <td>0.339452</td>\n",
       "    </tr>\n",
       "    <tr>\n",
       "      <th>2024-05-06 00:00:00-04:00</th>\n",
       "      <td>0.030775</td>\n",
       "      <td>0.057078</td>\n",
       "      <td>0.044392</td>\n",
       "      <td>0.305968</td>\n",
       "    </tr>\n",
       "    <tr>\n",
       "      <th>2024-05-07 00:00:00-04:00</th>\n",
       "      <td>0.063607</td>\n",
       "      <td>0.048553</td>\n",
       "      <td>0.043423</td>\n",
       "      <td>0.398441</td>\n",
       "    </tr>\n",
       "    <tr>\n",
       "      <th>2024-05-08 00:00:00-04:00</th>\n",
       "      <td>0.032563</td>\n",
       "      <td>0.037153</td>\n",
       "      <td>0.052433</td>\n",
       "      <td>0.229614</td>\n",
       "    </tr>\n",
       "    <tr>\n",
       "      <th>2024-05-09 00:00:00-04:00</th>\n",
       "      <td>0.052670</td>\n",
       "      <td>0.034783</td>\n",
       "      <td>0.026239</td>\n",
       "      <td>0.308706</td>\n",
       "    </tr>\n",
       "  </tbody>\n",
       "</table>\n",
       "</div>"
      ],
      "text/plain": [
       "                               Open      High       Low    Volume\n",
       "Date                                                             \n",
       "2024-05-03 00:00:00-04:00  0.000000  0.000000  0.000000  0.339452\n",
       "2024-05-06 00:00:00-04:00  0.030775  0.057078  0.044392  0.305968\n",
       "2024-05-07 00:00:00-04:00  0.063607  0.048553  0.043423  0.398441\n",
       "2024-05-08 00:00:00-04:00  0.032563  0.037153  0.052433  0.229614\n",
       "2024-05-09 00:00:00-04:00  0.052670  0.034783  0.026239  0.308706"
      ]
     },
     "execution_count": 12,
     "metadata": {},
     "output_type": "execute_result"
    }
   ],
   "source": [
    "features_df.head(5)"
   ]
  },
  {
   "cell_type": "code",
   "execution_count": 13,
   "metadata": {},
   "outputs": [
    {
     "data": {
      "text/html": [
       "<div>\n",
       "<style scoped>\n",
       "    .dataframe tbody tr th:only-of-type {\n",
       "        vertical-align: middle;\n",
       "    }\n",
       "\n",
       "    .dataframe tbody tr th {\n",
       "        vertical-align: top;\n",
       "    }\n",
       "\n",
       "    .dataframe thead th {\n",
       "        text-align: right;\n",
       "    }\n",
       "</style>\n",
       "<table border=\"1\" class=\"dataframe\">\n",
       "  <thead>\n",
       "    <tr style=\"text-align: right;\">\n",
       "      <th></th>\n",
       "      <th>Close</th>\n",
       "    </tr>\n",
       "    <tr>\n",
       "      <th>Date</th>\n",
       "      <th></th>\n",
       "    </tr>\n",
       "  </thead>\n",
       "  <tbody>\n",
       "    <tr>\n",
       "      <th>2024-05-03 00:00:00-04:00</th>\n",
       "      <td>0.000896</td>\n",
       "    </tr>\n",
       "    <tr>\n",
       "      <th>2024-05-06 00:00:00-04:00</th>\n",
       "      <td>0.072432</td>\n",
       "    </tr>\n",
       "    <tr>\n",
       "      <th>2024-05-07 00:00:00-04:00</th>\n",
       "      <td>0.038575</td>\n",
       "    </tr>\n",
       "    <tr>\n",
       "      <th>2024-05-08 00:00:00-04:00</th>\n",
       "      <td>0.035543</td>\n",
       "    </tr>\n",
       "    <tr>\n",
       "      <th>2024-05-09 00:00:00-04:00</th>\n",
       "      <td>0.000000</td>\n",
       "    </tr>\n",
       "  </tbody>\n",
       "</table>\n",
       "</div>"
      ],
      "text/plain": [
       "                              Close\n",
       "Date                               \n",
       "2024-05-03 00:00:00-04:00  0.000896\n",
       "2024-05-06 00:00:00-04:00  0.072432\n",
       "2024-05-07 00:00:00-04:00  0.038575\n",
       "2024-05-08 00:00:00-04:00  0.035543\n",
       "2024-05-09 00:00:00-04:00  0.000000"
      ]
     },
     "execution_count": 13,
     "metadata": {},
     "output_type": "execute_result"
    }
   ],
   "source": [
    "label_df.head(5)"
   ]
  },
  {
   "cell_type": "code",
   "execution_count": 14,
   "metadata": {},
   "outputs": [
    {
     "data": {
      "text/plain": [
       "((63, 4), (63, 1))"
      ]
     },
     "execution_count": 14,
     "metadata": {},
     "output_type": "execute_result"
    }
   ],
   "source": [
    "features_df.shape, label_df.shape"
   ]
  },
  {
   "cell_type": "markdown",
   "metadata": {},
   "source": [
    "We will separate our features and labels into training and testing data with the help of Scikit-Learn's TimeSeriesSplit function.\n",
    "\n",
    "Unlike Scikit-Learn's train_test_split function, TimeSeriesSplit works like folding a paper with small folds, keeping time-crucial events adjacent to each other when training/testing (though, it will be fairly random in batches of sequential time periods). Until the TimeSeriesSplit reaches the desired number of folds, it will assign all other folds except the last fold made to training, while the last fold is saved for testing. Our stock data is like the piece of paper, so we will divide our dataset into the default 5 divisions.\n",
    "\n",
    "TimeSeriesSplit will slowly add more information for the AI model to train on with more folds to introduce the rest of the dataset.\n",
    "\n",
    "To be more specific, any previously made folds will have training data, while the last/new fold will have testing data. If we have 5 folds in our entire stock dataset, we will have 4 folds dedicated to training, while having only 1 fold (at the end of the dataset) for our testing data.\n",
    "\n",
    "tl;dr Training Dataset: 4/5 (80%) of data, Testing Dataset: 1/5 (20%) of data"
   ]
  },
  {
   "cell_type": "markdown",
   "metadata": {},
   "source": [
    "This is what it should look like when you choose to split your information\n",
    "\n",
    "Note how this split offers indices of where to cut the dataset, so parts of the dataset are slowly introduced to the AI model for training."
   ]
  },
  {
   "cell_type": "code",
   "execution_count": 15,
   "metadata": {},
   "outputs": [],
   "source": [
    "from sklearn.model_selection import TimeSeriesSplit"
   ]
  },
  {
   "cell_type": "code",
   "execution_count": 16,
   "metadata": {},
   "outputs": [
    {
     "name": "stdout",
     "output_type": "stream",
     "text": [
      "index: 0, train_index: [ 0  1  2  3  4  5  6  7  8  9 10 11 12], test_index: [13 14 15 16 17 18 19 20 21 22]\n",
      "index: 1, train_index: [ 0  1  2  3  4  5  6  7  8  9 10 11 12 13 14 15 16 17 18 19 20 21 22], test_index: [23 24 25 26 27 28 29 30 31 32]\n",
      "index: 2, train_index: [ 0  1  2  3  4  5  6  7  8  9 10 11 12 13 14 15 16 17 18 19 20 21 22 23\n",
      " 24 25 26 27 28 29 30 31 32], test_index: [33 34 35 36 37 38 39 40 41 42]\n",
      "index: 3, train_index: [ 0  1  2  3  4  5  6  7  8  9 10 11 12 13 14 15 16 17 18 19 20 21 22 23\n",
      " 24 25 26 27 28 29 30 31 32 33 34 35 36 37 38 39 40 41 42], test_index: [43 44 45 46 47 48 49 50 51 52]\n",
      "index: 4, train_index: [ 0  1  2  3  4  5  6  7  8  9 10 11 12 13 14 15 16 17 18 19 20 21 22 23\n",
      " 24 25 26 27 28 29 30 31 32 33 34 35 36 37 38 39 40 41 42 43 44 45 46 47\n",
      " 48 49 50 51 52], test_index: [53 54 55 56 57 58 59 60 61 62]\n"
     ]
    }
   ],
   "source": [
    "special_split = TimeSeriesSplit(n_splits=5) # default is 5 but will be useful to change later\n",
    "\n",
    "for index, (train_index, test_index) in enumerate(special_split.split(features_df)): # we get special train/test indexes for our dataset to use\n",
    "        print(f\"index: {index}, train_index: {train_index}, test_index: {test_index}\")\n",
    "        X_train, X_test = features_df.iloc[train_index, :], features_df.iloc[test_index, :] # update X_train/X_test by inserting the usual values into the custom indexes\n",
    "        y_train, y_test = label_df.iloc[train_index], label_df.iloc[test_index] # same as above but for y_train/y_test"
   ]
  },
  {
   "cell_type": "markdown",
   "metadata": {},
   "source": [
    "Lets go through how the AI model will interpret these variables full of information.\n",
    "\n",
    "The X related variables are for the AI model to train with, while the y related variabels are for its testing phase.\n",
    "\n",
    "- **X_train**: This is the information with columns like \"Open\" and \"High\" where the AI model will analyze patterns in the numbers.\n",
    "- **y_train**: This is the list of \"Close\" values respective to each row from X_train. The AI model will find a way to correlate how the stock values calculate to the Close values.\n",
    "\n",
    "- **X_test**: This is a dataset full of \"Open,\" \"High,\" \"Low,\" and \"Volume,\" data where the AI model is only allowed to analyze and not learn from. It will use this dataset to predict its \"Close\" answer, but will be checked for how accurate it is later.\n",
    "- **y_test**: These are the answers to what the \"Close\" answers should be for the X_test dataset. We will compare these real \"Close\" values to the AI model's \"Close\" predictions, and determine how accurate it is when predicting from a 3 month history of a stock."
   ]
  },
  {
   "cell_type": "code",
   "execution_count": 17,
   "metadata": {},
   "outputs": [
    {
     "name": "stdout",
     "output_type": "stream",
     "text": [
      "X_train: (53, 4), X_test: (10, 4), y_train: (53, 1), y_test: (10, 1)\n"
     ]
    }
   ],
   "source": [
    "print(f\"X_train: {X_train.shape}, X_test: {X_test.shape}, y_train: {y_train.shape}, y_test: {y_test.shape}\")"
   ]
  },
  {
   "cell_type": "code",
   "execution_count": 18,
   "metadata": {},
   "outputs": [],
   "source": [
    "from torch.nn import Sequential, Linear, ReLU, Dropout"
   ]
  },
  {
   "cell_type": "code",
   "execution_count": 19,
   "metadata": {},
   "outputs": [
    {
     "data": {
      "text/plain": [
       "Sequential(\n",
       "  (0): Linear(in_features=4, out_features=64, bias=True)\n",
       "  (1): ReLU()\n",
       "  (2): Dropout(p=0.2, inplace=False)\n",
       "  (3): Linear(in_features=64, out_features=64, bias=True)\n",
       "  (4): ReLU()\n",
       "  (5): Linear(in_features=64, out_features=128, bias=True)\n",
       "  (6): ReLU()\n",
       "  (7): Linear(in_features=128, out_features=64, bias=True)\n",
       "  (8): ReLU()\n",
       "  (9): Dropout(p=0.2, inplace=False)\n",
       "  (10): Linear(in_features=64, out_features=1, bias=True)\n",
       ")"
      ]
     },
     "execution_count": 19,
     "metadata": {},
     "output_type": "execute_result"
    }
   ],
   "source": [
    "model = Sequential(\n",
    "    Linear(in_features=X_train.shape[1], out_features=64, dtype=torch.float),  # 4 columns for in_features from whichever train dataset (in this case X_train.shape[1] as its a tuple)\n",
    "    ReLU(),\n",
    "    Dropout(0.2),\n",
    "    Linear(in_features=64, out_features=64, dtype=torch.float),\n",
    "    ReLU(),\n",
    "    Dropout(0.2),\n",
    "    Linear(in_features=64, out_features=1, dtype=torch.float)\n",
    ").to(device)  # use GPU for faster training if possible\n",
    "model\n",
    "\n",
    "# best so far: \n",
    "# Sequential(\n",
    "#   (0): Linear(in_features=4, out_features=64, bias=True)\n",
    "#   (1): ReLU()\n",
    "#   (2): Dropout(p=0.2, inplace=False)\n",
    "#   (3): Linear(in_features=64, out_features=64, bias=True)\n",
    "#   (4): ReLU()\n",
    "#   (5): Linear(in_features=64, out_features=128, bias=True)\n",
    "#   (6): ReLU()\n",
    "#   (7): Linear(in_features=128, out_features=64, bias=True)\n",
    "#   (8): ReLU()\n",
    "#   (9): Dropout(p=0.2, inplace=False)\n",
    "#   (10): Linear(in_features=64, out_features=1, bias=True)\n",
    "# )"
   ]
  },
  {
   "cell_type": "code",
   "execution_count": 20,
   "metadata": {},
   "outputs": [],
   "source": [
    "from torch.nn import MSELoss"
   ]
  },
  {
   "cell_type": "code",
   "execution_count": 21,
   "metadata": {},
   "outputs": [],
   "source": [
    "loss_fn = MSELoss()\n",
    "optimizer = torch.optim.Adam(params=model.parameters(), lr=0.00001) # best so far: 0.001"
   ]
  },
  {
   "cell_type": "code",
   "execution_count": 22,
   "metadata": {},
   "outputs": [],
   "source": [
    "# pandas dataframe -> raw values -> pytorch tensor\n",
    "\n",
    "def df_to_pytensor(dataset: pd.DataFrame, device, dtype=torch.float) -> torch.Tensor:\n",
    "    \"\"\"Converts a Pandas Dataframe to a Pytorch Tensor (for training/testing loops)\"\"\"\n",
    "    return torch.tensor(dataset.values, dtype=dtype, device=device)\n",
    "\n",
    "# needed to avoid bias between each fold\n",
    "def reset_weights(model: Sequential):\n",
    "    for layer in model.children():\n",
    "        if hasattr(layer, \"reset_parameters\"):\n",
    "            layer.reset_parameters()"
   ]
  },
  {
   "cell_type": "code",
   "execution_count": 23,
   "metadata": {},
   "outputs": [
    {
     "name": "stdout",
     "output_type": "stream",
     "text": [
      "Epochs: 500\n",
      "each split/fold will run 100 epochs\n"
     ]
    }
   ],
   "source": [
    "splits = 5\n",
    "\n",
    "epoch_per_fold = 20 # best so far: 100\n",
    "\n",
    "epochs = splits * epoch_per_fold\n",
    "\n",
    "# epochs = how many times the ai model will go through the entire X_train/y_train dataset\n",
    "print(f\"Epochs: {epochs}\\neach split/fold will run {epoch_per_fold} epochs\")"
   ]
  },
  {
   "cell_type": "code",
   "execution_count": 24,
   "metadata": {},
   "outputs": [
    {
     "name": "stdout",
     "output_type": "stream",
     "text": [
      "FOLD 0\n",
      "-----------------------------\n",
      "Epoch: 100 | Loss: 0.25%\n",
      "Epoch: 200 | Loss: 0.10%\n",
      "Epoch: 300 | Loss: 0.03%\n",
      "Epoch: 400 | Loss: 0.12%\n",
      "Epoch: 500 | Loss: 0.18%\n",
      "Test Loss: 10.47%\n",
      "FOLD 1\n",
      "-----------------------------\n",
      "Epoch: 100 | Loss: 0.37%\n",
      "Epoch: 200 | Loss: 0.29%\n",
      "Epoch: 300 | Loss: 0.17%\n",
      "Epoch: 400 | Loss: 0.27%\n",
      "Epoch: 500 | Loss: 0.15%\n",
      "Test Loss: 0.29%\n",
      "FOLD 2\n",
      "-----------------------------\n",
      "Epoch: 100 | Loss: 0.97%\n",
      "Epoch: 200 | Loss: 0.51%\n",
      "Epoch: 300 | Loss: 0.19%\n",
      "Epoch: 400 | Loss: 0.49%\n",
      "Epoch: 500 | Loss: 0.34%\n",
      "Test Loss: 0.68%\n",
      "FOLD 3\n",
      "-----------------------------\n",
      "Epoch: 100 | Loss: 0.94%\n",
      "Epoch: 200 | Loss: 0.78%\n",
      "Epoch: 300 | Loss: 0.67%\n",
      "Epoch: 400 | Loss: 0.87%\n",
      "Epoch: 500 | Loss: 0.43%\n",
      "Test Loss: 0.77%\n",
      "FOLD 4\n",
      "-----------------------------\n",
      "Epoch: 100 | Loss: 0.98%\n",
      "Epoch: 200 | Loss: 0.68%\n",
      "Epoch: 300 | Loss: 0.58%\n",
      "Epoch: 400 | Loss: 0.70%\n",
      "Epoch: 500 | Loss: 0.66%\n",
      "Test Loss: 0.34%\n"
     ]
    }
   ],
   "source": [
    "#x_train & y_train go together\n",
    "#x_test and y_test go together\n",
    "special_split = TimeSeriesSplit(n_splits=5) # default is 5 but will be useful to change later\n",
    "\n",
    "results = {}\n",
    "\n",
    "for fold, (train_index, test_index) in enumerate(special_split.split(features_df)): # we get special train/test indexes for our dataset to use \n",
    "    X_train, X_test = features_df.iloc[train_index, :], features_df.iloc[test_index, :] # update X_train/X_test by inserting the usual values into the custom indexes\n",
    "    y_train, y_test = label_df.iloc[train_index], label_df.iloc[test_index] # same as above but for y_train/y_test\n",
    "    \n",
    "    X_train = df_to_pytensor(X_train, device)\n",
    "    X_test = df_to_pytensor(X_test, device)\n",
    "    y_train = df_to_pytensor(y_train, device)\n",
    "    y_test = df_to_pytensor(y_test, device)\n",
    "    \n",
    "    reset_weights(model)\n",
    "    \n",
    "    print(f\"FOLD {fold}\")\n",
    "    print(\"-----------------------------\")\n",
    "    for epoch in range(1, epochs+1):\n",
    "        model.train()  # set to train mode\n",
    "        \n",
    "        y_pred = model(X_train) # make prediction on dataset\n",
    "        \n",
    "        loss = loss_fn(y_pred, y_train) # tell computer how bad it guessed compared to real answer\n",
    "        \n",
    "        optimizer.zero_grad() # make ai model reflect and improve itself for the next epoch\n",
    "        loss.backward() # back propagation (remind itself what it did wrong last time)\n",
    "        \n",
    "        optimizer.step() # improvement can take a pause until the next time it fails\n",
    "            \n",
    "        if epoch % 100 == 0: # every 20 epochs\n",
    "            print(f\"Epoch: {epoch} | Loss: {loss:.2%}\")\n",
    "    \n",
    "    model.eval()\n",
    "    with torch.inference_mode():\n",
    "        test_pred = model(X_test)\n",
    "        test_loss = loss_fn(test_pred, y_test)\n",
    "    \n",
    "    print(f\"Test Loss: {test_loss:.2%}\")\n",
    "    results[fold] = test_loss\n",
    "    \n",
    "    #torch.save(model.state_dict(), f\"./model-fold-{fold}.pth\")\n",
    "    "
   ]
  },
  {
   "cell_type": "code",
   "execution_count": 25,
   "metadata": {},
   "outputs": [
    {
     "name": "stdout",
     "output_type": "stream",
     "text": [
      "FOLD RESULTS\n",
      "-----------------------------\n",
      "Fold 0 Loss: 10.47%\n",
      "Fold 1 Loss: 0.29%\n",
      "Fold 2 Loss: 0.68%\n",
      "Fold 3 Loss: 0.77%\n",
      "Fold 4 Loss: 0.34%\n",
      "Average Loss: 2.51%\n"
     ]
    }
   ],
   "source": [
    "print(f\"FOLD RESULTS\")\n",
    "print(\"-----------------------------\")\n",
    "\n",
    "for key, value in results.items():\n",
    "    print(f\"Fold {key} Loss: {value:.2%}\")\n",
    "\n",
    "print(f\"Average Loss: {sum(results.values())/len(results.items()):.2%}\")"
   ]
  },
  {
   "cell_type": "code",
   "execution_count": 26,
   "metadata": {},
   "outputs": [
    {
     "name": "stdout",
     "output_type": "stream",
     "text": [
      "Test Loss: 0.34%\n"
     ]
    }
   ],
   "source": [
    "model.eval()\n",
    "with torch.inference_mode():\n",
    "    test_pred = model(X_test)\n",
    "    test_loss = loss_fn(test_pred, y_test)\n",
    "    \n",
    "print(f\"Test Loss: {test_loss:.2%}\")"
   ]
  },
  {
   "cell_type": "code",
   "execution_count": 27,
   "metadata": {},
   "outputs": [],
   "source": [
    "y_test_pred = model(X_test)\n",
    "\n",
    "X_test = feature_normalizer.inverse_transform(X_test.cpu())\n",
    "y_test = label_normalizer.inverse_transform(y_test.cpu())\n",
    "\n",
    "y_test_pred = label_normalizer.inverse_transform(y_test_pred.cpu().detach().numpy())"
   ]
  },
  {
   "cell_type": "code",
   "execution_count": 28,
   "metadata": {},
   "outputs": [],
   "source": [
    "from matplotlib import pyplot as plt"
   ]
  },
  {
   "cell_type": "code",
   "execution_count": 29,
   "metadata": {},
   "outputs": [
    {
     "data": {
      "image/png": "[encoded data removed]",
      "text/plain": [
       "<Figure size 1500x600 with 1 Axes>"
      ]
     },
     "metadata": {},
     "output_type": "display_data"
    }
   ],
   "source": [
    "figure, axes = plt.subplots(figsize=(15, 6))\n",
    "axes.xaxis_date()\n",
    "\n",
    "axes.plot(raw_df[len(raw_df)-len(y_test):].index, y_test, color=\"green\", label=\"Actual NVDA Stock Pricing\")\n",
    "axes.plot(raw_df[len(raw_df)-len(y_test):].index, y_test_pred, color=\"red\", label=\"Predicted NVDA Stock Pricing\")\n",
    "\n",
    "plt.title(\"NVDA Stock Price Prediction\")\n",
    "plt.xlabel(\"Time\")\n",
    "plt.ylabel(\"NVDA Close Price\")\n",
    "plt.legend()\n",
    "plt.show()\n"
   ]
  },
  {
   "cell_type": "markdown",
   "metadata": {},
   "source": [
    "Let's have the model predict the upcoming Close values for NVIDIA from the last time it opened."
   ]
  },
  {
   "cell_type": "code",
   "execution_count": 30,
   "metadata": {},
   "outputs": [],
   "source": [
    "recent_nvda_df = nvda.history(period=\"1d\") # ['1d', '5d', '1mo', '3mo', '6mo', '1y', '2y', '5y', '10y', 'ytd', 'max']"
   ]
  },
  {
   "cell_type": "code",
   "execution_count": 31,
   "metadata": {},
   "outputs": [
    {
     "data": {
      "text/plain": [
       "Date\n",
       "2024-08-02 00:00:00-04:00    107.269997\n",
       "Name: Close, dtype: float64"
      ]
     },
     "execution_count": 31,
     "metadata": {},
     "output_type": "execute_result"
    }
   ],
   "source": [
    "recent_nvda_df.isnull().values.any()\n",
    "recent_nvda_df.drop(columns=[\"Dividends\", \"Stock Splits\"], inplace=True)\n",
    "\n",
    "recent_features = recent_nvda_df.drop(\"Close\", axis=1)\n",
    "recent_label_df = recent_nvda_df.pop(\"Close\")\n",
    "recent_label_df.rename(\"Close\", inplace=True)"
   ]
  },
  {
   "cell_type": "code",
   "execution_count": 32,
   "metadata": {},
   "outputs": [],
   "source": [
    "norm_df = feature_normalizer.transform(recent_features)\n",
    "newdf = pd.DataFrame(norm_df, index=recent_features.index, columns=recent_features.columns)\n",
    "\n",
    "# for sake of demonstration (because close sometimes is in dataset), we will normalize this\n",
    "# norm_df = label_normalizer.transform(recent_label_df.to_frame())\n",
    "# recent_label_df = pd.DataFrame(norm_df, index=recent_label_df.index, columns=[\"Close\"])"
   ]
  },
  {
   "cell_type": "code",
   "execution_count": 33,
   "metadata": {},
   "outputs": [
    {
     "data": {
      "text/html": [
       "<div>\n",
       "<style scoped>\n",
       "    .dataframe tbody tr th:only-of-type {\n",
       "        vertical-align: middle;\n",
       "    }\n",
       "\n",
       "    .dataframe tbody tr th {\n",
       "        vertical-align: top;\n",
       "    }\n",
       "\n",
       "    .dataframe thead th {\n",
       "        text-align: right;\n",
       "    }\n",
       "</style>\n",
       "<table border=\"1\" class=\"dataframe\">\n",
       "  <thead>\n",
       "    <tr style=\"text-align: right;\">\n",
       "      <th></th>\n",
       "      <th>Open</th>\n",
       "      <th>High</th>\n",
       "      <th>Low</th>\n",
       "      <th>Volume</th>\n",
       "    </tr>\n",
       "    <tr>\n",
       "      <th>Date</th>\n",
       "      <th></th>\n",
       "      <th></th>\n",
       "      <th></th>\n",
       "      <th></th>\n",
       "    </tr>\n",
       "  </thead>\n",
       "  <tbody>\n",
       "    <tr>\n",
       "      <th>2024-08-02 00:00:00-04:00</th>\n",
       "      <td>0.307166</td>\n",
       "      <td>0.377699</td>\n",
       "      <td>0.315886</td>\n",
       "      <td>0.463329</td>\n",
       "    </tr>\n",
       "  </tbody>\n",
       "</table>\n",
       "</div>"
      ],
      "text/plain": [
       "                               Open      High       Low    Volume\n",
       "Date                                                             \n",
       "2024-08-02 00:00:00-04:00  0.307166  0.377699  0.315886  0.463329"
      ]
     },
     "execution_count": 33,
     "metadata": {},
     "output_type": "execute_result"
    }
   ],
   "source": [
    "newdf.head() # only one row to represent one day"
   ]
  },
  {
   "cell_type": "code",
   "execution_count": 34,
   "metadata": {},
   "outputs": [
    {
     "data": {
      "text/plain": [
       "Date\n",
       "2024-08-02 00:00:00-04:00    107.269997\n",
       "Name: Close, dtype: float64"
      ]
     },
     "execution_count": 34,
     "metadata": {},
     "output_type": "execute_result"
    }
   ],
   "source": [
    "recent_label_df.head() # this is what the close value should be"
   ]
  },
  {
   "cell_type": "code",
   "execution_count": 35,
   "metadata": {},
   "outputs": [],
   "source": [
    "recent_features, recent_label = torch.tensor(newdf.values, dtype=torch.float, device=device), torch.tensor(recent_label_df.values, dtype=torch.float, device=device)\n",
    "# recent_features = recent_features.to(device)\n",
    "# recent_label = recent_label.to(device)"
   ]
  },
  {
   "cell_type": "code",
   "execution_count": 36,
   "metadata": {},
   "outputs": [
    {
     "name": "stdout",
     "output_type": "stream",
     "text": [
      "recent_features: cuda:0, recent_label: cuda:0\n"
     ]
    }
   ],
   "source": [
    "print(f\"recent_features: {recent_features.device}, recent_label: {recent_label.device}\")"
   ]
  },
  {
   "cell_type": "code",
   "execution_count": 37,
   "metadata": {},
   "outputs": [],
   "source": [
    "model.eval()\n",
    "with torch.inference_mode():\n",
    "    prediction = model(recent_features)"
   ]
  },
  {
   "cell_type": "code",
   "execution_count": 38,
   "metadata": {},
   "outputs": [
    {
     "name": "stdout",
     "output_type": "stream",
     "text": [
      "[[105.249886]]\n"
     ]
    }
   ],
   "source": [
    "prediction_df = pd.DataFrame(data=prediction.cpu(), columns=[\"Close\"])\n",
    "norm_prediction = label_normalizer.inverse_transform(prediction_df) # format: [[NUMBER]], access via norm_prediction[0][0]\n",
    "print(norm_prediction)"
   ]
  },
  {
   "cell_type": "code",
   "execution_count": 39,
   "metadata": {},
   "outputs": [
    {
     "data": {
      "text/plain": [
       "Date\n",
       "2024-08-02 00:00:00-04:00    107.269997\n",
       "Name: Close, dtype: float64"
      ]
     },
     "execution_count": 39,
     "metadata": {},
     "output_type": "execute_result"
    }
   ],
   "source": [
    "recent_label_df"
   ]
  },
  {
   "cell_type": "code",
   "execution_count": 40,
   "metadata": {},
   "outputs": [
    {
     "name": "stdout",
     "output_type": "stream",
     "text": [
      "Predicted Close Value: $105.25, Actual Close Value: $107.27\n"
     ]
    }
   ],
   "source": [
    "real_close_value = recent_label_df.iloc[0] # first value of Series\n",
    "predicted_close_value = norm_prediction[0][0]\n",
    "\n",
    "print(f\"Predicted Close Value: ${predicted_close_value:.2f}, Actual Close Value: ${real_close_value:.2f}\")"
   ]
  }
 ],
 "metadata": {
  "kernelspec": {
   "display_name": "Python 3",
   "language": "python",
   "name": "python3"
  },
  "language_info": {
   "codemirror_mode": {
    "name": "ipython",
    "version": 3
   },
   "file_extension": ".py",
   "mimetype": "text/x-python",
   "name": "python",
   "nbconvert_exporter": "python",
   "pygments_lexer": "ipython3",
   "version": "3.11.0"
  }
 },
 "nbformat": 4,
 "nbformat_minor": 2
}
