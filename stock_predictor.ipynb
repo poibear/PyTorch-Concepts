{
 "cells": [
  {
   "cell_type": "markdown",
   "metadata": {},
   "source": [
    "# AI Stock Predictor"
   ]
  },
  {
   "cell_type": "markdown",
   "metadata": {},
   "source": [
    "## Roadmap\n",
    "1. Download and filter historic data of a stock (or multiple stocks)\n",
    "2. Standardize stock values for our AI model\n",
    "3. Split up dataset of stock values into training and testing datasets\n",
    "4. Set up AI model\n",
    "5. Train and test AI model\n",
    "6. Fetch and filter latest history of stock\n",
    "7. Predict recent Close value with AI and compare it to the real Close value\n",
    "8. Improve our AI model with experimentation"
   ]
  },
  {
   "cell_type": "markdown",
   "metadata": {},
   "source": [
    "Install **YFinance**, **pandas**, and **pytorch** (for local users, not Colab)\n",
    "\n",
    "`pip install -U yfinance pandas --no-cache-dir`\n",
    "\n",
    "`pip install torch torchvision torchaudio --index-url https://download.pytorch.org/whl/cu124`"
   ]
  },
  {
   "cell_type": "markdown",
   "metadata": {},
   "source": [
    "## 0. Setup preliminary resources"
   ]
  },
  {
   "cell_type": "code",
   "execution_count": 1,
   "metadata": {},
   "outputs": [],
   "source": [
    "import yfinance as yf\n",
    "import pandas as pd\n",
    "import torch\n",
    "from sklearn.model_selection import KFold"
   ]
  },
  {
   "cell_type": "code",
   "execution_count": 2,
   "metadata": {},
   "outputs": [],
   "source": [
    "device = \"cuda\" if torch.cuda.is_available() else \"cpu\""
   ]
  },
  {
   "cell_type": "markdown",
   "metadata": {},
   "source": [
    "We want to make an AI model that can predict future Market Close values based on the stock's past values. We can retrieve a stock's history from a certain timeframe (3 months ago)."
   ]
  },
  {
   "cell_type": "markdown",
   "metadata": {},
   "source": [
    "Add a ticker tracking a stock\n",
    " \n",
    "*Ticker = set of letters (e.g., MSFT for microsoft) identifying a stock, providing relevant stock history like market value"
   ]
  },
  {
   "cell_type": "markdown",
   "metadata": {},
   "source": [
    "We will use NVIDIA (NVDA), a semiconductor company known for making GPUs, for this example"
   ]
  },
  {
   "cell_type": "markdown",
   "metadata": {},
   "source": [
    "## 1. Download & filter data of a stock"
   ]
  },
  {
   "cell_type": "code",
   "execution_count": 3,
   "metadata": {},
   "outputs": [],
   "source": [
    "nvda = yf.Ticker(\"NVDA\") "
   ]
  },
  {
   "cell_type": "code",
   "execution_count": 4,
   "metadata": {},
   "outputs": [],
   "source": [
    "raw_df = nvda.history(period=\"3mo\").astype(float) # ensure consistency"
   ]
  },
  {
   "cell_type": "code",
   "execution_count": 5,
   "metadata": {},
   "outputs": [
    {
     "data": {
      "text/plain": [
       "False"
      ]
     },
     "execution_count": 5,
     "metadata": {},
     "output_type": "execute_result"
    }
   ],
   "source": [
    "raw_df.isnull().values.any() # no null values, so we dont have to worry about removing them"
   ]
  },
  {
   "cell_type": "code",
   "execution_count": 6,
   "metadata": {},
   "outputs": [
    {
     "data": {
      "text/html": [
       "<div>\n",
       "<style scoped>\n",
       "    .dataframe tbody tr th:only-of-type {\n",
       "        vertical-align: middle;\n",
       "    }\n",
       "\n",
       "    .dataframe tbody tr th {\n",
       "        vertical-align: top;\n",
       "    }\n",
       "\n",
       "    .dataframe thead th {\n",
       "        text-align: right;\n",
       "    }\n",
       "</style>\n",
       "<table border=\"1\" class=\"dataframe\">\n",
       "  <thead>\n",
       "    <tr style=\"text-align: right;\">\n",
       "      <th></th>\n",
       "      <th>Open</th>\n",
       "      <th>High</th>\n",
       "      <th>Low</th>\n",
       "      <th>Close</th>\n",
       "      <th>Volume</th>\n",
       "      <th>Dividends</th>\n",
       "      <th>Stock Splits</th>\n",
       "    </tr>\n",
       "    <tr>\n",
       "      <th>Date</th>\n",
       "      <th></th>\n",
       "      <th></th>\n",
       "      <th></th>\n",
       "      <th></th>\n",
       "      <th></th>\n",
       "      <th></th>\n",
       "      <th></th>\n",
       "    </tr>\n",
       "  </thead>\n",
       "  <tbody>\n",
       "    <tr>\n",
       "      <th>2024-10-16 00:00:00-04:00</th>\n",
       "      <td>133.970762</td>\n",
       "      <td>136.610579</td>\n",
       "      <td>131.570934</td>\n",
       "      <td>135.710648</td>\n",
       "      <td>264879700.0</td>\n",
       "      <td>0.0</td>\n",
       "      <td>0.0</td>\n",
       "    </tr>\n",
       "    <tr>\n",
       "      <th>2024-10-17 00:00:00-04:00</th>\n",
       "      <td>139.330400</td>\n",
       "      <td>140.880297</td>\n",
       "      <td>136.860569</td>\n",
       "      <td>136.920563</td>\n",
       "      <td>306435900.0</td>\n",
       "      <td>0.0</td>\n",
       "      <td>0.0</td>\n",
       "    </tr>\n",
       "    <tr>\n",
       "      <th>2024-10-18 00:00:00-04:00</th>\n",
       "      <td>138.660446</td>\n",
       "      <td>138.890426</td>\n",
       "      <td>137.270542</td>\n",
       "      <td>137.990494</td>\n",
       "      <td>176090200.0</td>\n",
       "      <td>0.0</td>\n",
       "      <td>0.0</td>\n",
       "    </tr>\n",
       "    <tr>\n",
       "      <th>2024-10-21 00:00:00-04:00</th>\n",
       "      <td>138.120486</td>\n",
       "      <td>143.700104</td>\n",
       "      <td>137.990491</td>\n",
       "      <td>143.700104</td>\n",
       "      <td>264554500.0</td>\n",
       "      <td>0.0</td>\n",
       "      <td>0.0</td>\n",
       "    </tr>\n",
       "    <tr>\n",
       "      <th>2024-10-22 00:00:00-04:00</th>\n",
       "      <td>142.900163</td>\n",
       "      <td>144.410053</td>\n",
       "      <td>141.770236</td>\n",
       "      <td>143.580109</td>\n",
       "      <td>226311600.0</td>\n",
       "      <td>0.0</td>\n",
       "      <td>0.0</td>\n",
       "    </tr>\n",
       "  </tbody>\n",
       "</table>\n",
       "</div>"
      ],
      "text/plain": [
       "                                 Open        High         Low       Close  \\\n",
       "Date                                                                        \n",
       "2024-10-16 00:00:00-04:00  133.970762  136.610579  131.570934  135.710648   \n",
       "2024-10-17 00:00:00-04:00  139.330400  140.880297  136.860569  136.920563   \n",
       "2024-10-18 00:00:00-04:00  138.660446  138.890426  137.270542  137.990494   \n",
       "2024-10-21 00:00:00-04:00  138.120486  143.700104  137.990491  143.700104   \n",
       "2024-10-22 00:00:00-04:00  142.900163  144.410053  141.770236  143.580109   \n",
       "\n",
       "                                Volume  Dividends  Stock Splits  \n",
       "Date                                                             \n",
       "2024-10-16 00:00:00-04:00  264879700.0        0.0           0.0  \n",
       "2024-10-17 00:00:00-04:00  306435900.0        0.0           0.0  \n",
       "2024-10-18 00:00:00-04:00  176090200.0        0.0           0.0  \n",
       "2024-10-21 00:00:00-04:00  264554500.0        0.0           0.0  \n",
       "2024-10-22 00:00:00-04:00  226311600.0        0.0           0.0  "
      ]
     },
     "execution_count": 6,
     "metadata": {},
     "output_type": "execute_result"
    }
   ],
   "source": [
    "raw_df.head(5)"
   ]
  },
  {
   "cell_type": "markdown",
   "metadata": {},
   "source": [
    "We want our AI model to predict what the Close values will be. To do this, we must categorize this historic data into two sections: training and testing data.\n",
    "\n",
    "\n",
    "Training Data (**Features**): Open, High, Low, Volume (They seem to have significant value)\n",
    "\n",
    "Testing Data (**Labels**): Close "
   ]
  },
  {
   "cell_type": "code",
   "execution_count": 7,
   "metadata": {},
   "outputs": [],
   "source": [
    "raw_df = raw_df.drop(columns=[\"Dividends\", \"Stock Splits\"])"
   ]
  },
  {
   "cell_type": "code",
   "execution_count": 8,
   "metadata": {},
   "outputs": [],
   "source": [
    "features_df = raw_df.drop(\"Close\", axis=1) # features is everything except Close column, notice how we use axis=1 to select column since it will try to look in rows\n",
    "label_df = raw_df.pop(\"Close\") # this will be its own column\n",
    "label_df = label_df.rename(\"Close\")"
   ]
  },
  {
   "cell_type": "code",
   "execution_count": 9,
   "metadata": {},
   "outputs": [
    {
     "data": {
      "text/plain": [
       "((62, 4), (62,))"
      ]
     },
     "execution_count": 9,
     "metadata": {},
     "output_type": "execute_result"
    }
   ],
   "source": [
    "features_df.shape, label_df.shape"
   ]
  },
  {
   "cell_type": "markdown",
   "metadata": {},
   "source": [
    "## 2. Standardize stock values for our AI model"
   ]
  },
  {
   "cell_type": "markdown",
   "metadata": {},
   "source": [
    "To make sure our AI model does not worry too much on the numbers in our dataset, we will **standardize** our (training) data to ensure it only focuses on the patterns. We will use a StandardScaler from Scikit-Learn which adjusts every number to have a total mean of zero and standard deviation of one.\n",
    "\n",
    "Note that we do not normalize for our case, as normalizing limits the prediction capabilities of our model to its recorded highest and lowest stock prices (we cannot predict out of these numbers). We will also be using a loss function called Mean Square Error which will change our error scale to the value of the NVIDIA stock, rendering us unable to measure the accuracy and loss of our model."
   ]
  },
  {
   "cell_type": "code",
   "execution_count": 10,
   "metadata": {},
   "outputs": [],
   "source": [
    "from sklearn.preprocessing import StandardScaler"
   ]
  },
  {
   "cell_type": "code",
   "execution_count": 11,
   "metadata": {},
   "outputs": [],
   "source": [
    "feature_standardizer = StandardScaler()\n",
    "norm_df = feature_standardizer.fit_transform(features_df, y=label_df) # apply normalization to make a numpy array\n",
    "features_df = pd.DataFrame(norm_df, index=features_df.index, columns=features_df.columns) # convert the normalized array to a dataframe once again\n",
    "\n",
    "label_standardizer = StandardScaler()\n",
    "norm_df = label_standardizer.fit_transform(label_df.to_frame()) # MinMaxScaler requires this\n",
    "label_df = pd.DataFrame(norm_df, index=label_df.index, columns=[\"Close\"]) # extra touch to rename it Close"
   ]
  },
  {
   "cell_type": "code",
   "execution_count": 12,
   "metadata": {},
   "outputs": [
    {
     "data": {
      "text/html": [
       "<div>\n",
       "<style scoped>\n",
       "    .dataframe tbody tr th:only-of-type {\n",
       "        vertical-align: middle;\n",
       "    }\n",
       "\n",
       "    .dataframe tbody tr th {\n",
       "        vertical-align: top;\n",
       "    }\n",
       "\n",
       "    .dataframe thead th {\n",
       "        text-align: right;\n",
       "    }\n",
       "</style>\n",
       "<table border=\"1\" class=\"dataframe\">\n",
       "  <thead>\n",
       "    <tr style=\"text-align: right;\">\n",
       "      <th></th>\n",
       "      <th>Open</th>\n",
       "      <th>High</th>\n",
       "      <th>Low</th>\n",
       "      <th>Volume</th>\n",
       "    </tr>\n",
       "    <tr>\n",
       "      <th>Date</th>\n",
       "      <th></th>\n",
       "      <th></th>\n",
       "      <th></th>\n",
       "      <th></th>\n",
       "    </tr>\n",
       "  </thead>\n",
       "  <tbody>\n",
       "    <tr>\n",
       "      <th>2024-10-16 00:00:00-04:00</th>\n",
       "      <td>-1.165007</td>\n",
       "      <td>-1.094465</td>\n",
       "      <td>-1.171935</td>\n",
       "      <td>0.902057</td>\n",
       "    </tr>\n",
       "    <tr>\n",
       "      <th>2024-10-17 00:00:00-04:00</th>\n",
       "      <td>-0.129408</td>\n",
       "      <td>-0.226643</td>\n",
       "      <td>-0.090329</td>\n",
       "      <td>1.653811</td>\n",
       "    </tr>\n",
       "    <tr>\n",
       "      <th>2024-10-18 00:00:00-04:00</th>\n",
       "      <td>-0.258858</td>\n",
       "      <td>-0.631085</td>\n",
       "      <td>-0.006500</td>\n",
       "      <td>-0.704152</td>\n",
       "    </tr>\n",
       "    <tr>\n",
       "      <th>2024-10-21 00:00:00-04:00</th>\n",
       "      <td>-0.363190</td>\n",
       "      <td>0.346484</td>\n",
       "      <td>0.140713</td>\n",
       "      <td>0.896174</td>\n",
       "    </tr>\n",
       "    <tr>\n",
       "      <th>2024-10-22 00:00:00-04:00</th>\n",
       "      <td>0.560348</td>\n",
       "      <td>0.490782</td>\n",
       "      <td>0.913582</td>\n",
       "      <td>0.204357</td>\n",
       "    </tr>\n",
       "  </tbody>\n",
       "</table>\n",
       "</div>"
      ],
      "text/plain": [
       "                               Open      High       Low    Volume\n",
       "Date                                                             \n",
       "2024-10-16 00:00:00-04:00 -1.165007 -1.094465 -1.171935  0.902057\n",
       "2024-10-17 00:00:00-04:00 -0.129408 -0.226643 -0.090329  1.653811\n",
       "2024-10-18 00:00:00-04:00 -0.258858 -0.631085 -0.006500 -0.704152\n",
       "2024-10-21 00:00:00-04:00 -0.363190  0.346484  0.140713  0.896174\n",
       "2024-10-22 00:00:00-04:00  0.560348  0.490782  0.913582  0.204357"
      ]
     },
     "execution_count": 12,
     "metadata": {},
     "output_type": "execute_result"
    }
   ],
   "source": [
    "features_df.head(5)"
   ]
  },
  {
   "cell_type": "code",
   "execution_count": 13,
   "metadata": {},
   "outputs": [
    {
     "data": {
      "text/html": [
       "<div>\n",
       "<style scoped>\n",
       "    .dataframe tbody tr th:only-of-type {\n",
       "        vertical-align: middle;\n",
       "    }\n",
       "\n",
       "    .dataframe tbody tr th {\n",
       "        vertical-align: top;\n",
       "    }\n",
       "\n",
       "    .dataframe thead th {\n",
       "        text-align: right;\n",
       "    }\n",
       "</style>\n",
       "<table border=\"1\" class=\"dataframe\">\n",
       "  <thead>\n",
       "    <tr style=\"text-align: right;\">\n",
       "      <th></th>\n",
       "      <th>Close</th>\n",
       "    </tr>\n",
       "    <tr>\n",
       "      <th>Date</th>\n",
       "      <th></th>\n",
       "    </tr>\n",
       "  </thead>\n",
       "  <tbody>\n",
       "    <tr>\n",
       "      <th>2024-10-16 00:00:00-04:00</th>\n",
       "      <td>-0.787653</td>\n",
       "    </tr>\n",
       "    <tr>\n",
       "      <th>2024-10-17 00:00:00-04:00</th>\n",
       "      <td>-0.541841</td>\n",
       "    </tr>\n",
       "    <tr>\n",
       "      <th>2024-10-18 00:00:00-04:00</th>\n",
       "      <td>-0.324469</td>\n",
       "    </tr>\n",
       "    <tr>\n",
       "      <th>2024-10-21 00:00:00-04:00</th>\n",
       "      <td>0.835523</td>\n",
       "    </tr>\n",
       "    <tr>\n",
       "      <th>2024-10-22 00:00:00-04:00</th>\n",
       "      <td>0.811144</td>\n",
       "    </tr>\n",
       "  </tbody>\n",
       "</table>\n",
       "</div>"
      ],
      "text/plain": [
       "                              Close\n",
       "Date                               \n",
       "2024-10-16 00:00:00-04:00 -0.787653\n",
       "2024-10-17 00:00:00-04:00 -0.541841\n",
       "2024-10-18 00:00:00-04:00 -0.324469\n",
       "2024-10-21 00:00:00-04:00  0.835523\n",
       "2024-10-22 00:00:00-04:00  0.811144"
      ]
     },
     "execution_count": 13,
     "metadata": {},
     "output_type": "execute_result"
    }
   ],
   "source": [
    "label_df.head(5)"
   ]
  },
  {
   "cell_type": "code",
   "execution_count": 14,
   "metadata": {},
   "outputs": [
    {
     "data": {
      "text/plain": [
       "((62, 4), (62, 1))"
      ]
     },
     "execution_count": 14,
     "metadata": {},
     "output_type": "execute_result"
    }
   ],
   "source": [
    "features_df.shape, label_df.shape"
   ]
  },
  {
   "cell_type": "markdown",
   "metadata": {},
   "source": [
    "## 3. Split up dataset of stock values into training and testing datasets"
   ]
  },
  {
   "cell_type": "markdown",
   "metadata": {},
   "source": [
    "We will separate our features and labels into training and testing data with the help of Scikit-Learn's TimeSeriesSplit function.\n",
    "\n",
    "Unlike Scikit-Learn's train_test_split function, TimeSeriesSplit works like folding a paper with small folds, keeping time-crucial events adjacent to each other when training/testing (though, it will be fairly random in batches of sequential time periods). Until the TimeSeriesSplit reaches the desired number of folds, it will assign all other folds except the last fold made to training, while the last fold is saved for testing. Our stock data is like the piece of paper, so we will divide our dataset into the default 5 divisions.\n",
    "\n",
    "TimeSeriesSplit will slowly add more information for the AI model to train on with more folds to introduce the rest of the dataset.\n",
    "\n",
    "To be more specific, any previously made folds will have training data, while the last/new fold will have testing data. If we have 5 folds in our entire stock dataset, we will have 4 folds dedicated to training, while having only 1 fold (at the end of the dataset) for our testing data.\n",
    "\n",
    "tl;dr Training Dataset: 4/5 (80%) of data, Testing Dataset: 1/5 (20%) of data"
   ]
  },
  {
   "cell_type": "markdown",
   "metadata": {},
   "source": [
    "This is what it should look like when you choose to split your information\n",
    "\n",
    "Note how this split offers indices of where to cut the dataset, so parts of the dataset are slowly introduced to the AI model for training."
   ]
  },
  {
   "cell_type": "code",
   "execution_count": 15,
   "metadata": {},
   "outputs": [],
   "source": [
    "from sklearn.model_selection import TimeSeriesSplit"
   ]
  },
  {
   "cell_type": "markdown",
   "metadata": {},
   "source": [
    "Let's simulate what our folds will look like as we train and test our model. Each number represents a sample, or row, of the stock information we will train our model on. Notice how the train_index (training dataset) gets bigger at each new fold (index). If we look closely, we can see that each new fold adds the test dataset to the training dataset and introduces a newer training dataset."
   ]
  },
  {
   "cell_type": "code",
   "execution_count": 16,
   "metadata": {},
   "outputs": [
    {
     "name": "stdout",
     "output_type": "stream",
     "text": [
      "index: 0, train_index: [ 0  1  2  3  4  5  6  7  8  9 10 11], test_index: [12 13 14 15 16 17 18 19 20 21]\n",
      "index: 1, train_index: [ 0  1  2  3  4  5  6  7  8  9 10 11 12 13 14 15 16 17 18 19 20 21], test_index: [22 23 24 25 26 27 28 29 30 31]\n",
      "index: 2, train_index: [ 0  1  2  3  4  5  6  7  8  9 10 11 12 13 14 15 16 17 18 19 20 21 22 23\n",
      " 24 25 26 27 28 29 30 31], test_index: [32 33 34 35 36 37 38 39 40 41]\n",
      "index: 3, train_index: [ 0  1  2  3  4  5  6  7  8  9 10 11 12 13 14 15 16 17 18 19 20 21 22 23\n",
      " 24 25 26 27 28 29 30 31 32 33 34 35 36 37 38 39 40 41], test_index: [42 43 44 45 46 47 48 49 50 51]\n",
      "index: 4, train_index: [ 0  1  2  3  4  5  6  7  8  9 10 11 12 13 14 15 16 17 18 19 20 21 22 23\n",
      " 24 25 26 27 28 29 30 31 32 33 34 35 36 37 38 39 40 41 42 43 44 45 46 47\n",
      " 48 49 50 51], test_index: [52 53 54 55 56 57 58 59 60 61]\n"
     ]
    }
   ],
   "source": [
    "special_split = TimeSeriesSplit(n_splits=5) # default is 5 but will be useful to change later\n",
    "\n",
    "for index, (train_index, test_index) in enumerate(special_split.split(features_df)): # we get special train/test indexes for our dataset to use\n",
    "        print(f\"index: {index}, train_index: {train_index}, test_index: {test_index}\")\n",
    "        X_train, X_test = features_df.iloc[train_index, :], features_df.iloc[test_index, :] # update X_train/X_test by inserting the usual values into the custom indexes\n",
    "        y_train, y_test = label_df.iloc[train_index], label_df.iloc[test_index] # same as above but for y_train/y_test"
   ]
  },
  {
   "cell_type": "markdown",
   "metadata": {},
   "source": [
    "Lets go through how the AI model will interpret these variables full of information.\n",
    "\n",
    "The X related variables are for the AI model to train with, while the y related variabels are for its testing phase.\n",
    "\n",
    "- **X_train**: This is the information with columns like \"Open\" and \"High\" where the AI model will analyze patterns in the numbers.\n",
    "- **y_train**: This is the list of \"Close\" values respective to each row from X_train. The AI model will find a way to correlate how the stock values calculate to the Close values.\n",
    "\n",
    "- **X_test**: This is a dataset full of \"Open,\" \"High,\" \"Low,\" and \"Volume,\" data where the AI model is only allowed to analyze and not learn from. It will use this dataset to predict its \"Close\" answer, but will be checked for how accurate it is later.\n",
    "- **y_test**: These are the answers to what the \"Close\" answers should be for the X_test dataset. We will compare these real \"Close\" values to the AI model's \"Close\" predictions, and determine how accurate it is when predicting from a 3 month history of a stock."
   ]
  },
  {
   "cell_type": "code",
   "execution_count": 17,
   "metadata": {},
   "outputs": [
    {
     "name": "stdout",
     "output_type": "stream",
     "text": [
      "X_train: (52, 4), X_test: (10, 4), y_train: (52, 1), y_test: (10, 1)\n"
     ]
    }
   ],
   "source": [
    "print(f\"X_train: {X_train.shape}, X_test: {X_test.shape}, y_train: {y_train.shape}, y_test: {y_test.shape}\")"
   ]
  },
  {
   "cell_type": "markdown",
   "metadata": {},
   "source": [
    "## 4. Set up AI model"
   ]
  },
  {
   "cell_type": "markdown",
   "metadata": {},
   "source": [
    "We will be making an AI model that resembles thinking like our brains. This is a special part of AI called deep-learning, which imitates the function of human brains. Unlike our brains that must have its neurons activated repeatedly to learn, our AI model learns from our cost function, or a formula that determines how wrong it is on each prediction it makes during training. To learn, it will adjust a bunch of numbers that make up its neurons and (hopefully) minimize the cost (that is, make the cost function say there is less error for every new prediction) by the end of training.  "
   ]
  },
  {
   "cell_type": "markdown",
   "metadata": {},
   "source": [
    "(GO OVER AFTER MAKING MODEL)\n",
    "Look at how our in_features and out_features for the first and last Linear layers are not the same numbers as the layers in between. This is because we are changing the AI model to fit our needs by accepting the data that we want it to accept. In an easier explanation, we are creating an AI model that can accept the stock information we will give it."
   ]
  },
  {
   "cell_type": "code",
   "execution_count": 18,
   "metadata": {},
   "outputs": [],
   "source": [
    "from torch.nn import Sequential, Linear, ReLU, Dropout"
   ]
  },
  {
   "cell_type": "code",
   "execution_count": 19,
   "metadata": {},
   "outputs": [
    {
     "data": {
      "text/plain": [
       "Sequential(\n",
       "  (0): Linear(in_features=4, out_features=64, bias=True)\n",
       "  (1): ReLU()\n",
       "  (2): Dropout(p=0.2, inplace=False)\n",
       "  (3): Linear(in_features=64, out_features=64, bias=True)\n",
       "  (4): ReLU()\n",
       "  (5): Dropout(p=0.2, inplace=False)\n",
       "  (6): Linear(in_features=64, out_features=1, bias=True)\n",
       ")"
      ]
     },
     "execution_count": 19,
     "metadata": {},
     "output_type": "execute_result"
    }
   ],
   "source": [
    "model = Sequential(\n",
    "    Linear(in_features=X_train.shape[1], out_features=64, dtype=torch.float),  # 4 columns for in_features from whichever train dataset (in this case X_train.shape[1] as its a tuple)\n",
    "    ReLU(),\n",
    "    Dropout(0.2),\n",
    "    Linear(in_features=64, out_features=64, dtype=torch.float),\n",
    "    ReLU(),\n",
    "    Dropout(0.2),\n",
    "    Linear(in_features=64, out_features=1, dtype=torch.float)\n",
    ").to(device)  # use GPU for faster training if possible\n",
    "model\n",
    "\n",
    "# best so far: \n",
    "# Sequential(\n",
    "#   (0): Linear(in_features=4, out_features=64, bias=True)\n",
    "#   (1): ReLU()\n",
    "#   (2): Dropout(p=0.2, inplace=False)\n",
    "#   (3): Linear(in_features=64, out_features=64, bias=True)\n",
    "#   (4): ReLU()\n",
    "#   (5): Linear(in_features=64, out_features=128, bias=True)\n",
    "#   (6): ReLU()\n",
    "#   (7): Linear(in_features=128, out_features=64, bias=True)\n",
    "#   (8): ReLU()\n",
    "#   (9): Dropout(p=0.2, inplace=False)\n",
    "#   (10): Linear(in_features=64, out_features=1, bias=True)\n",
    "# )"
   ]
  },
  {
   "cell_type": "markdown",
   "metadata": {},
   "source": [
    "### 4.1 Setup loss and optimizers"
   ]
  },
  {
   "cell_type": "markdown",
   "metadata": {},
   "source": [
    "Loss functions and optimizers are very important to how AI models learn, as they correct the AI model from making future mistakes with every time it learns. Both of these are really just code that deal with lots of numbers, but they help the model in ways that you might not expect. The loss function tells the model how bad it tries to guess while it trains its learning, while the optimizer is responsible for telling the model how to improve."
   ]
  },
  {
   "cell_type": "code",
   "execution_count": 20,
   "metadata": {},
   "outputs": [],
   "source": [
    "from torch.nn import MSELoss"
   ]
  },
  {
   "cell_type": "code",
   "execution_count": 21,
   "metadata": {},
   "outputs": [],
   "source": [
    "loss_fn = MSELoss()\n",
    "optimizer = torch.optim.Adam(params=model.parameters(), lr=0.1) # best so far: 0.001"
   ]
  },
  {
   "cell_type": "code",
   "execution_count": 22,
   "metadata": {},
   "outputs": [],
   "source": [
    "# pandas dataframe -> raw values -> pytorch tensor\n",
    "\n",
    "def df_to_pytensor(dataset: pd.DataFrame, device, dtype=torch.float) -> torch.Tensor:\n",
    "    \"\"\"Converts a Pandas Dataframe to a Pytorch Tensor (for training/testing loops)\"\"\"\n",
    "    return torch.tensor(dataset.values, dtype=dtype, device=device)\n",
    "\n",
    "# needed to avoid bias between each fold\n",
    "def reset_weights(model: Sequential):\n",
    "    for layer in model.children():\n",
    "        if hasattr(layer, \"reset_parameters\"):\n",
    "            layer.reset_parameters()"
   ]
  },
  {
   "cell_type": "code",
   "execution_count": 23,
   "metadata": {},
   "outputs": [
    {
     "name": "stdout",
     "output_type": "stream",
     "text": [
      "Epochs: 100\n",
      "each split/fold will run 20 epochs\n"
     ]
    }
   ],
   "source": [
    "splits = 5\n",
    "\n",
    "epoch_per_fold = 20 # best so far: 100\n",
    "\n",
    "epochs = splits * epoch_per_fold\n",
    "\n",
    "# epochs = how many times the ai model will go through the entire X_train/y_train dataset\n",
    "print(f\"Epochs: {epochs}\\neach split/fold will run {epoch_per_fold} epochs\")"
   ]
  },
  {
   "cell_type": "markdown",
   "metadata": {},
   "source": [
    "## 5. Train and test AI model"
   ]
  },
  {
   "cell_type": "code",
   "execution_count": 24,
   "metadata": {},
   "outputs": [
    {
     "name": "stdout",
     "output_type": "stream",
     "text": [
      "FOLD 0\n",
      "-----------------------------\n",
      "Epoch: 100 | Loss: 6.38%\n",
      "Test Loss: 36.74%\n",
      "FOLD 1\n",
      "-----------------------------\n",
      "Epoch: 100 | Loss: 23.61%\n",
      "Test Loss: 15.75%\n",
      "FOLD 2\n",
      "-----------------------------\n",
      "Epoch: 100 | Loss: 10.23%\n",
      "Test Loss: 11.49%\n",
      "FOLD 3\n",
      "-----------------------------\n",
      "Epoch: 100 | Loss: 4.97%\n",
      "Test Loss: 14.53%\n",
      "FOLD 4\n",
      "-----------------------------\n",
      "Epoch: 100 | Loss: 11.04%\n",
      "Test Loss: 11.56%\n"
     ]
    }
   ],
   "source": [
    "#x_train & y_train go together\n",
    "#x_test and y_test go together\n",
    "special_split = TimeSeriesSplit(n_splits=5) # default is 5 but will be useful to change later\n",
    "\n",
    "results = {}\n",
    "\n",
    "for fold, (train_index, test_index) in enumerate(special_split.split(features_df)): # we get special train/test indexes for our dataset to use \n",
    "    X_train, X_test = features_df.iloc[train_index, :], features_df.iloc[test_index, :] # update X_train/X_test by inserting the usual values into the custom indexes\n",
    "    y_train, y_test = label_df.iloc[train_index], label_df.iloc[test_index] # same as above but for y_train/y_test\n",
    "    \n",
    "    X_train = df_to_pytensor(X_train, device)\n",
    "    X_test = df_to_pytensor(X_test, device)\n",
    "    y_train = df_to_pytensor(y_train, device)\n",
    "    y_test = df_to_pytensor(y_test, device)\n",
    "    \n",
    "    reset_weights(model)\n",
    "    \n",
    "    print(f\"FOLD {fold}\")\n",
    "    print(\"-----------------------------\")\n",
    "    for epoch in range(1, epochs+1):\n",
    "        model.train()  # set to train mode\n",
    "        \n",
    "        y_pred = model(X_train) # make prediction on dataset\n",
    "        \n",
    "        loss = loss_fn(y_pred, y_train) # tell computer how bad it guessed compared to real answer\n",
    "        \n",
    "        optimizer.zero_grad() # make ai model reflect and improve itself for the next epoch\n",
    "        loss.backward() # back propagation (remind itself what it did wrong last time)\n",
    "        \n",
    "        optimizer.step() # improvement can take a pause until the next time it fails\n",
    "            \n",
    "        if epoch % 100 == 0: # every 20 epochs\n",
    "            print(f\"Epoch: {epoch} | Loss: {loss:.2%}\")\n",
    "    \n",
    "    model.eval()\n",
    "    with torch.inference_mode():\n",
    "        test_pred = model(X_test)\n",
    "        test_loss = loss_fn(test_pred, y_test)\n",
    "    \n",
    "    print(f\"Test Loss: {test_loss:.2%}\")\n",
    "    results[fold] = test_loss\n",
    "    \n",
    "    #torch.save(model.state_dict(), f\"./model-fold-{fold}.pth\")\n",
    "    "
   ]
  },
  {
   "cell_type": "code",
   "execution_count": 25,
   "metadata": {},
   "outputs": [
    {
     "name": "stdout",
     "output_type": "stream",
     "text": [
      "FOLD RESULTS\n",
      "-----------------------------\n",
      "Fold 0 Loss: 36.74%\n",
      "Fold 1 Loss: 15.75%\n",
      "Fold 2 Loss: 11.49%\n",
      "Fold 3 Loss: 14.53%\n",
      "Fold 4 Loss: 11.56%\n",
      "Average Loss: 18.01%\n"
     ]
    }
   ],
   "source": [
    "print(f\"FOLD RESULTS\")\n",
    "print(\"-----------------------------\")\n",
    "\n",
    "for key, value in results.items():\n",
    "    print(f\"Fold {key} Loss: {value:.2%}\")\n",
    "\n",
    "print(f\"Average Loss: {sum(results.values())/len(results.items()):.2%}\")"
   ]
  },
  {
   "cell_type": "code",
   "execution_count": 26,
   "metadata": {},
   "outputs": [
    {
     "name": "stdout",
     "output_type": "stream",
     "text": [
      "Test Loss: 11.56%\n"
     ]
    }
   ],
   "source": [
    "# see how wrong the model is on testing dataset\n",
    "model.eval()\n",
    "with torch.inference_mode():\n",
    "    test_pred = model(X_test)\n",
    "    test_loss = loss_fn(test_pred, y_test)\n",
    "    \n",
    "print(f\"Test Loss: {test_loss:.2%}\")"
   ]
  },
  {
   "cell_type": "code",
   "execution_count": 27,
   "metadata": {},
   "outputs": [],
   "source": [
    "# make a prediction with the model on the testing dataset for visualization later\n",
    "y_test_pred = model(X_test)"
   ]
  },
  {
   "cell_type": "code",
   "execution_count": 28,
   "metadata": {},
   "outputs": [],
   "source": [
    "# everything is on gpu, so put to cpu since standardizer is also on it\n",
    "X_test = feature_standardizer.inverse_transform(X_test.cpu())\n",
    "y_test = label_standardizer.inverse_transform(y_test.cpu())\n",
    "\n",
    "# detaching prevents the model from learning if we decide to mess with the prediction's values\n",
    "y_test_pred = label_standardizer.inverse_transform(y_test_pred.cpu().detach().numpy())"
   ]
  },
  {
   "cell_type": "markdown",
   "metadata": {},
   "source": [
    "Let's visualize how our model predicts by looking at our stock's value compared to what our model is predicting. This is the test dataset that our model was learning on."
   ]
  },
  {
   "cell_type": "code",
   "execution_count": 33,
   "metadata": {},
   "outputs": [],
   "source": [
    "from matplotlib import pyplot as plt"
   ]
  },
  {
   "cell_type": "code",
   "execution_count": 34,
   "metadata": {},
   "outputs": [
    {
     "data": {
      "image/png": "[encoded data removed]",
      "text/plain": [
       "<Figure size 1500x600 with 1 Axes>"
      ]
     },
     "metadata": {},
     "output_type": "display_data"
    }
   ],
   "source": [
    "figure, axes = plt.subplots(figsize=(15, 6))\n",
    "axes.xaxis_date()\n",
    "\n",
    "axes.plot(raw_df[len(raw_df)-len(y_test):].index, y_test, color=\"green\", label=\"Actual NVDA Stock Pricing\")\n",
    "axes.plot(raw_df[len(raw_df)-len(y_test):].index, y_test_pred, color=\"red\", label=\"Predicted NVDA Stock Pricing\")\n",
    "\n",
    "plt.title(\"NVDA Stock Price Prediction\")\n",
    "plt.xlabel(\"Time\")\n",
    "plt.ylabel(\"NVDA Close Price\")\n",
    "plt.legend()\n",
    "plt.show()\n"
   ]
  },
  {
   "cell_type": "markdown",
   "metadata": {},
   "source": [
    "## 6. Fetch and filter latest history of stock"
   ]
  },
  {
   "cell_type": "markdown",
   "metadata": {},
   "source": [
    "Let's have the model predict the upcoming Close values for NVIDIA from the last time it opened."
   ]
  },
  {
   "cell_type": "code",
   "execution_count": 35,
   "metadata": {},
   "outputs": [],
   "source": [
    "recent_nvda_df = nvda.history(period=\"1d\") # ['1d', '5d', '1mo', '3mo', '6mo', '1y', '2y', '5y', '10y', 'ytd', 'max']"
   ]
  },
  {
   "cell_type": "code",
   "execution_count": 36,
   "metadata": {},
   "outputs": [],
   "source": [
    "recent_nvda_df.isnull().values.any()\n",
    "recent_nvda_df = recent_nvda_df.drop(columns=[\"Dividends\", \"Stock Splits\"])\n",
    "\n",
    "recent_features = recent_nvda_df.drop(\"Close\", axis=1)\n",
    "recent_label_df = recent_nvda_df.pop(\"Close\")\n",
    "recent_label_df = recent_label_df.rename(\"Close\")"
   ]
  },
  {
   "cell_type": "code",
   "execution_count": 37,
   "metadata": {},
   "outputs": [],
   "source": [
    "norm_df = feature_standardizer.transform(recent_features)\n",
    "newdf = pd.DataFrame(norm_df, index=recent_features.index, columns=recent_features.columns)"
   ]
  },
  {
   "cell_type": "code",
   "execution_count": 38,
   "metadata": {},
   "outputs": [
    {
     "data": {
      "text/html": [
       "<div>\n",
       "<style scoped>\n",
       "    .dataframe tbody tr th:only-of-type {\n",
       "        vertical-align: middle;\n",
       "    }\n",
       "\n",
       "    .dataframe tbody tr th {\n",
       "        vertical-align: top;\n",
       "    }\n",
       "\n",
       "    .dataframe thead th {\n",
       "        text-align: right;\n",
       "    }\n",
       "</style>\n",
       "<table border=\"1\" class=\"dataframe\">\n",
       "  <thead>\n",
       "    <tr style=\"text-align: right;\">\n",
       "      <th></th>\n",
       "      <th>Open</th>\n",
       "      <th>High</th>\n",
       "      <th>Low</th>\n",
       "      <th>Volume</th>\n",
       "    </tr>\n",
       "    <tr>\n",
       "      <th>Date</th>\n",
       "      <th></th>\n",
       "      <th></th>\n",
       "      <th></th>\n",
       "      <th></th>\n",
       "    </tr>\n",
       "  </thead>\n",
       "  <tbody>\n",
       "    <tr>\n",
       "      <th>2025-01-15 00:00:00-05:00</th>\n",
       "      <td>-1.226987</td>\n",
       "      <td>-1.127103</td>\n",
       "      <td>-1.229381</td>\n",
       "      <td>-0.550218</td>\n",
       "    </tr>\n",
       "  </tbody>\n",
       "</table>\n",
       "</div>"
      ],
      "text/plain": [
       "                               Open      High       Low    Volume\n",
       "Date                                                             \n",
       "2025-01-15 00:00:00-05:00 -1.226987 -1.127103 -1.229381 -0.550218"
      ]
     },
     "execution_count": 38,
     "metadata": {},
     "output_type": "execute_result"
    }
   ],
   "source": [
    "newdf.head() # only one row to represent one day"
   ]
  },
  {
   "cell_type": "code",
   "execution_count": 39,
   "metadata": {},
   "outputs": [
    {
     "data": {
      "text/plain": [
       "Date\n",
       "2025-01-15 00:00:00-05:00    136.240005\n",
       "Name: Close, dtype: float64"
      ]
     },
     "execution_count": 39,
     "metadata": {},
     "output_type": "execute_result"
    }
   ],
   "source": [
    "recent_label_df.head() # this is what the close value should be"
   ]
  },
  {
   "cell_type": "code",
   "execution_count": 40,
   "metadata": {},
   "outputs": [],
   "source": [
    "recent_features, recent_label = torch.tensor(newdf.values, dtype=torch.float, device=device), torch.tensor(recent_label_df.values, dtype=torch.float, device=device)\n",
    "# this is if you want to teach how to move it to gpu\n",
    "# recent_features = recent_features.to(device)\n",
    "# recent_label = recent_label.to(device)"
   ]
  },
  {
   "cell_type": "code",
   "execution_count": 41,
   "metadata": {},
   "outputs": [
    {
     "name": "stdout",
     "output_type": "stream",
     "text": [
      "recent_features: cuda:0, recent_label: cuda:0\n"
     ]
    }
   ],
   "source": [
    "print(f\"recent_features: {recent_features.device}, recent_label: {recent_label.device}\")"
   ]
  },
  {
   "cell_type": "markdown",
   "metadata": {},
   "source": [
    "## 7. Predict recent Close value with AI and compare it to the real Close Value"
   ]
  },
  {
   "cell_type": "code",
   "execution_count": 42,
   "metadata": {},
   "outputs": [],
   "source": [
    "model.eval()\n",
    "with torch.inference_mode():\n",
    "    prediction = model(recent_features)"
   ]
  },
  {
   "cell_type": "code",
   "execution_count": 43,
   "metadata": {},
   "outputs": [
    {
     "name": "stdout",
     "output_type": "stream",
     "text": [
      "[[133.85944]]\n"
     ]
    }
   ],
   "source": [
    "prediction_df = pd.DataFrame(data=prediction.cpu(), columns=[\"Close\"])\n",
    "norm_prediction = label_standardizer.inverse_transform(prediction_df) # format: [[NUMBER]], access via norm_prediction[0][0]\n",
    "print(norm_prediction)"
   ]
  },
  {
   "cell_type": "code",
   "execution_count": 44,
   "metadata": {},
   "outputs": [
    {
     "data": {
      "text/plain": [
       "Date\n",
       "2025-01-15 00:00:00-05:00    136.240005\n",
       "Name: Close, dtype: float64"
      ]
     },
     "execution_count": 44,
     "metadata": {},
     "output_type": "execute_result"
    }
   ],
   "source": [
    "recent_label_df"
   ]
  },
  {
   "cell_type": "code",
   "execution_count": 45,
   "metadata": {},
   "outputs": [
    {
     "name": "stdout",
     "output_type": "stream",
     "text": [
      "Predicted Close Value: $133.86, Actual Close Value: $136.24\n"
     ]
    }
   ],
   "source": [
    "real_close_value = recent_label_df.iloc[0] # first value of Series\n",
    "predicted_close_value = norm_prediction[0][0]\n",
    "\n",
    "print(f\"Predicted Close Value: ${predicted_close_value:.2f}, Actual Close Value: ${real_close_value:.2f}\")"
   ]
  }
 ],
 "metadata": {
  "kernelspec": {
   "display_name": "pytorch",
   "language": "python",
   "name": "python3"
  },
  "language_info": {
   "codemirror_mode": {
    "name": "ipython",
    "version": 3
   },
   "file_extension": ".py",
   "mimetype": "text/x-python",
   "name": "python",
   "nbconvert_exporter": "python",
   "pygments_lexer": "ipython3",
   "version": "3.11.10"
  }
 },
 "nbformat": 4,
 "nbformat_minor": 2
}
